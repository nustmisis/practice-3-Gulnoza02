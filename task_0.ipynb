{
 "cells": [
  {
   "cell_type": "markdown",
   "id": "942d83c2",
   "metadata": {},
   "source": [
    "# Регулярные выражения\n",
    "\n",
    "**Документация и ссылки:**\n",
    "- Оригинальная ссылка на хабр: https://habr.com/ru/articles/349860/#Primery_regulyarnyh_vyrazheniy\n",
    "- Оригинальная документация: https://docs.python.org/3/library/re.html\n",
    "- Очень подробный и обстоятельный материал: https://www.regular-expressions.info/\n",
    "- Разные сложные трюки и тонкости с примерами: http://www.rexegg.com/\n",
    "- Онлайн отладка регулярок: https://regex101.com (не забудьте поставить галочку Python в разделе \"Flavor\" слева)\n",
    "- Онлайн визуализация регулярок: https://www.debuggex.com/ (не забудьте выбрать Python)\n",
    "- Могущественный текстовый редактор [Sublime Text 3](https://www.sublimetext.com/3), в котором очень удобный поиск по регуляркам"
   ]
  },
  {
   "cell_type": "markdown",
   "id": "c52a29a9",
   "metadata": {},
   "source": [
    "## Задание №1\n",
    "Слово — это последовательность из букв (русских или английских).\n",
    "На вход даётся текст, посчитайте, сколько в нём слов.\n",
    "\n",
    "\n",
    "**Ввод:**\n",
    "```\n",
    "Он --- серобуромалиновая редиска!! \n",
    ">>>:-> \n",
    "А не кот. \n",
    "www.kot.ru\n",
    "```\n",
    "\n",
    "**Вывод:**\n",
    "```\n",
    "9\n",
    "```"
   ]
  },
  {
   "cell_type": "code",
   "execution_count": null,
   "id": "c15b4a97",
   "metadata": {},
   "outputs": [],
   "source": [
    "import re\n",
    " \n",
    "def count_words(text):\n",
    "words = re.findall(r'\\b\\w+\\b', text)\n",
    "return len(words)\n",
    " \n",
    "input_text = \"Он-- серобуромалиновая редиска!! \\n>>>:->\\nА не кот. \\nwww.kot.ru\"\n",
    "word_count = count_words(input_text)\n",
    "print(\"Количество слов в тексте:\", word_count)"
   ]
  },
  {
   "cell_type": "markdown",
   "id": "d2045ca1",
   "metadata": {},
   "source": [
    "## Задание №2\n",
    "Вовочка подготовил одно очень важное письмо, но везде указал неправильное время.\n",
    "Поэтому нужно заменить все вхождения времени на строку (TBD). \n",
    "Время — это строка вида HH:MM:SS или HH:MM, в которой HH — число от 00 до 23, а MM и SS — число от 00 до 59.\n",
    "\n",
    "\n",
    "**Ввод:**\n",
    "```\n",
    "Уважаемые! Если вы к 09:00 не вернёте чемодан, то уже в 09:00:01 я за себя не отвечаю. \n",
    "PS. С отношением 25:50 всё нормально!\n",
    "```\n",
    "\n",
    "\n",
    "**Вывод:**\n",
    "```\n",
    "Уважаемые! Если вы к (TBD) не вернёте чемодан, то уже в (TBD) я за себя не отвечаю. \n",
    "PS. С отношением 25:50 всё нормально!\n",
    "```\n"
   ]
  },
  {
   "cell_type": "code",
   "execution_count": null,
   "id": "07f4cbb2",
   "metadata": {},
   "outputs": [],
   "source": [
    "[21:55] Холова Гулноза Олимджоновна\n",
    "import re\n",
    " \n",
    "def replace_time_with_TBD(text):\n",
    "    # Используем регулярное выражение для поиска времени в формате HH:MM:SS или HH:MM\n",
    "    time_pattern = r'\\b\\d{2}:\\d{2}(:\\d{2})?\\b'\n",
    "    \n",
    "    # Заменяем все вхождения времени на \"(TBD)\"\n",
    "    updated_text = re.sub(time_pattern, \"(TBD)\", text)\n",
    "    \n",
    "    return updated_text\n",
    " \n",
    "input_text = \"Уважаемые! Если вы к 09:00 не вернёте чемодан, то уже в 09:00:01 я за себя не отвечаю. PS. С отношением 25:50 всё нормально!\"\n",
    "output_text = replace_time_with_TBD(input_text)\n",
    " \n",
    "print(output_text)"
   ]
  },
  {
   "cell_type": "markdown",
   "id": "e8f60c36",
   "metadata": {},
   "source": [
    "## Задание №3\n",
    "\n",
    "\n",
    "Акростих — осмысленный текст, сложенный из начальных букв каждой строки стихотворения.\n",
    "Акроним — вид аббревиатуры, образованной начальными звуками (напр. НАТО, вуз, НАСА, ТАСС), которое можно произнести слитно (в отличие от аббревиатуры, которую произносят «по буквам», например: КГБ — «ка-гэ-бэ»).\n",
    "\n",
    "\n",
    "На вход даётся текст. Выведите слитно первые буквы каждого слова. Буквы необходимо выводить заглавными.\n",
    "\n",
    "**Ввод 1:**\n",
    "```\n",
    "Московский государственный институт международных отношений\n",
    "```\n",
    "\n",
    "\n",
    "**Вывод 1:**\n",
    "```\n",
    "МГИМО <br>\n",
    "```\n",
    "\n",
    "\n",
    "**Ввод 2:**\n",
    "```\n",
    "микоян авиацию снабдил алкоголем, народ доволен работой авиаконструктора\n",
    "```\n",
    "\n",
    "\n",
    "**Вывод 2:**\n",
    "```\n",
    "МАСАНДРА\n",
    "```"
   ]
  },
  {
   "cell_type": "code",
   "execution_count": null,
   "id": "33114873",
   "metadata": {},
   "outputs": [],
   "source": [
    "def generate_acronym(input_text):\n",
    "    # Разбиваем входную строку на слова\n",
    "    words = input_text.split()\n",
    "    \n",
    "    # Извлекаем первую букву каждого слова и преобразуем её в заглавную\n",
    "    acronym = ''.join(word[0].upper() for word in words)\n",
    "    \n",
    "    return acronym\n",
    " \n",
    "# Ввод 1\n",
    "input_text1 = \"Московский государственный институт международных отношений\"\n",
    "output_acronym1 = generate_acronym(input_text1)\n",
    "print(output_acronym1)\n",
    " \n",
    "# Ввод 2\n",
    "input_text2 = \"микоян авиацию снабдил алкоголем, народ доволен работой авиаконструктора\"\n",
    "output_acronym2 = generate_acronym(input_text2)\n",
    "print(output_acronym2)"
   ]
  }
 ],
 "metadata": {
  "kernelspec": {
   "display_name": "Python 3 (ipykernel)",
   "language": "python",
   "name": "python3"
  },
  "language_info": {
   "codemirror_mode": {
    "name": "ipython",
    "version": 3
   },
   "file_extension": ".py",
   "mimetype": "text/x-python",
   "name": "python",
   "nbconvert_exporter": "python",
   "pygments_lexer": "ipython3",
   "version": "3.9.7"
  }
 },
 "nbformat": 4,
 "nbformat_minor": 5
}
